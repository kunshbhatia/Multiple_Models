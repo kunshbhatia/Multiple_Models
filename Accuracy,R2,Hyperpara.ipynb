{
 "cells": [
  {
   "cell_type": "markdown",
   "id": "ae2aafb5-3f95-4fc9-9ccc-e8b67c12e8ec",
   "metadata": {
    "jp-MarkdownHeadingCollapsed": true
   },
   "source": [
    "### Regression"
   ]
  },
  {
   "cell_type": "code",
   "execution_count": null,
   "id": "4a8a46e5-949d-4e74-abef-cb5198871879",
   "metadata": {},
   "outputs": [],
   "source": [
    "from sklearn.linear_model import LinearRegression,Lasso,Ridge,ElasticNet\n",
    "from sklearn.svm import SVR\n",
    "from sklearn.neighbors import KNeighborsRegressor\n",
    "from sklearn.tree import DecisionTreeRegressor\n",
    "from sklearn.ensemble import RandomForestRegressor,AdaBoostRegressor,GradientBoostingRegressor\n",
    "from xgboost import XGBRegressor\n",
    "from sklearn.metrics import r2_score,mean_absolute_error\n",
    "\n",
    "models = {\n",
    "    \"Linear Regression\" : LinearRegression(),\n",
    "    \"Lasso\" : Lasso(),\n",
    "    \"Ridge\" : Ridge(),\n",
    "    \"ElasticNet\" : ElasticNet(),\n",
    "    \"SVR\" : SVR(),\n",
    "    \"K Nearest\" : KNeighborsRegressor(),\n",
    "    \"Decision Tree\" : DecisionTreeRegressor(),\n",
    "    \"Ada Boost\" : AdaBoostRegressor(),\n",
    "    \"Random Forest\" : RandomForestRegressor(),\n",
    "    \"Gradient\" : GradientBoostingRegressor(),\n",
    "    \"XGB\" : XGBRegressor()\n",
    "}\n",
    "\n",
    "for i in range(len(list(models))):\n",
    "    model = list(models.values())[i]\n",
    "    model.fit(X_train,Y_train)\n",
    "    Y_pred = model.predict(X_test)\n",
    "\n",
    "    acc = r2_score(Y_test,Y_pred)\n",
    "    mae = mean_absolute_error(Y_test,Y_pred)\n",
    "    print(f\"R2 value for {list(models.keys())[i]} : \", acc*100)\n",
    "    print(f\"MAE value for {list(models.keys())[i]} : \", mae)\n",
    "    print(\"-\"*50) # Just to make a boundary"
   ]
  },
  {
   "cell_type": "markdown",
   "id": "f83ad22e-01d8-4fd8-8be5-d0c5ed98262b",
   "metadata": {
    "jp-MarkdownHeadingCollapsed": true
   },
   "source": [
    "### Classification"
   ]
  },
  {
   "cell_type": "code",
   "execution_count": null,
   "id": "2a6bb036-0e85-436d-8665-3b78a2d6f38c",
   "metadata": {},
   "outputs": [],
   "source": [
    "from sklearn.linear_model import LogisticRegression,Lasso,Ridge,ElasticNet\n",
    "from sklearn.svm import SVC\n",
    "from sklearn.neighbors import KNeighborsClassifier\n",
    "from sklearn.tree import DecisionTreeClassifier\n",
    "from sklearn.ensemble import RandomForestClassifier,AdaBoostClassifier,GradientBoostingClassifier\n",
    "from xgboost import XGBClassifier\n",
    "from sklearn.metrics import accuracy_score,confusion_matrix,classification_report\n",
    "\n",
    "models = {\n",
    "    \"Linear Classification\" : LogisticRegression(),\n",
    "    \"Lasso\" : Lasso(),\n",
    "    \"Ridge\" : Ridge(),\n",
    "    \"ElasticNet\" : ElasticNet(),\n",
    "    \"SVC\" : SVC(),\n",
    "    \"K Nearest\" : KNeighborsClassifier(),\n",
    "    \"Decision Tree\" : DecisionTreeClassifier(),\n",
    "    \"Ada Boost\" : AdaBoostClassifier(),\n",
    "    \"Random Forest\" : RandomForestClassifier,\n",
    "    \"Gradient\" : GradientBoostingClassifier(),\n",
    "    \"XGB\" : XGBClassifier()\n",
    "}\n",
    "\n",
    "for i in range(len(list(models))):\n",
    "    model = list(models.values())[i]\n",
    "    model.fit(X_train,Y_train)\n",
    "    Y_pred = model.predict(X_test)\n",
    "\n",
    "    acc = accuracy_score(Y_test,Y_pred)\n",
    "    mae = mean_absolute_error(Y_test,Y_pred)\n",
    "    print(f\"R2 value for {list(models.keys())[i]} : \", acc*100)\n",
    "    print(f\"MAE value for {list(models.keys())[i]} : \", mae)\n",
    "    print(\"-\"*50) # Just to make a boundary"
   ]
  },
  {
   "cell_type": "markdown",
   "id": "1b19d875-9180-48eb-a9ea-50f3be94e439",
   "metadata": {
    "jp-MarkdownHeadingCollapsed": true
   },
   "source": [
    "### Hyperparameters"
   ]
  },
  {
   "cell_type": "code",
   "execution_count": null,
   "id": "0700814b-8b80-49a6-95a7-b64277d645a1",
   "metadata": {},
   "outputs": [],
   "source": [
    "from sklearn.model_selection import RandomizedSearchCV\n",
    "\n",
    "name_params = {\n",
    "    \"Name\" [\"X\",\"Y\",\"Z\"],\n",
    "}\n",
    "\n",
    "processing = [\n",
    "        (\"name\",function(),name_params),\n",
    "        #Ex = (\"Decision Tree\",DecisionTreeRegressor(),Decision_params),\n",
    "    ]\n",
    "\n",
    "for name,model,param in processing:\n",
    "    random = RandomizedSearchCV(estimator=model,\n",
    "                                param_distributions=param,\n",
    "                                n_jobs=-1,\n",
    "                                verbose=3,\n",
    "                                cv=5)\n",
    "    random.fit(X_train,Y_train)\n",
    "    Y_pred = random.predict(X_test)\n",
    "\n",
    "    print(f\"Best Paramater for {name} : \" , random.best_params_)"
   ]
  }
 ],
 "metadata": {
  "kernelspec": {
   "display_name": "Python 3 (ipykernel)",
   "language": "python",
   "name": "python3"
  },
  "language_info": {
   "codemirror_mode": {
    "name": "ipython",
    "version": 3
   },
   "file_extension": ".py",
   "mimetype": "text/x-python",
   "name": "python",
   "nbconvert_exporter": "python",
   "pygments_lexer": "ipython3",
   "version": "3.12.7"
  }
 },
 "nbformat": 4,
 "nbformat_minor": 5
}
